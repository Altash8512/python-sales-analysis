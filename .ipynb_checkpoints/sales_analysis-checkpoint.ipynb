{
 "cells": [
  {
   "cell_type": "markdown",
   "metadata": {},
   "source": [
    "# Sales Data Analysis and Visualization\n",
    "\n",
    "## Project Objective\n",
    "This project aims to analyze a sales dataset to identify trends, top-performing products, and regional performance. The goal is to derive actionable insights that can help guide business strategy."
   ]
  },
  {
   "cell_type": "markdown",
   "metadata": {},
   "source": [
    "### 1. Import Libraries"
   ]
  },
  {
   "cell_type": "code",
   "execution_count": null,
   "metadata": {},
   "outputs": [],
   "source": [
    "import pandas as pd\n",
    "import numpy as np\n",
    "import matplotlib.pyplot as plt\n",
    "import seaborn as sns\n",
    "import plotly.express as px\n",
    "\n",
    "# Set plot styles\n",
    "sns.set_style('whitegrid')\n",
    "plt.rcParams['figure.figsize'] = (12, 6)"
   ]
  },
  {
   "cell_type": "markdown",
   "metadata": {},
   "source": [
    "### 2. Load and Inspect the Dataset"
   ]
  },
  {
   "cell_type": "code",
   "execution_count": null,
   "metadata": {},
   "outputs": [],
   "source": [
    "df = pd.read_csv('sales_data.csv')\n",
    "\n",
    "# Display the first few rows\n",
    "print(\"First 5 rows of the dataset:\")\n",
    "df.head()"
   ]
  },
  {
   "cell_type": "code",
   "execution_count": null,
   "metadata": {},
   "outputs": [],
   "source": [
    "# Get a concise summary of the dataframe\n",
    "print(\"\\nDataset Information:\")\n",
    "df.info()"
   ]
  },
  {
   "cell_type": "markdown",
   "metadata": {},
   "source": [
    "### 3. Data Cleaning"
   ]
  },
  {
   "cell_type": "code",
   "execution_count": null,
   "metadata": {},
   "outputs": [],
   "source": [
    "# Check for missing values\n",
    "print(\"Missing values before cleaning:\")\n",
    "print(df.isnull().sum())"
   ]
  },
  {
   "cell_type": "code",
   "execution_count": null,
   "metadata": {},
   "outputs": [],
   "source": [
    "# Handle missing values\n",
    "# For 'Revenue' and 'Profit', we can fill with the median or recalculate if possible.\n",
    "# Let's fill with the median for simplicity.\n",
    "df['Revenue'].fillna(df['Revenue'].median(), inplace=True)\n",
    "df['Profit'].fillna(df['Profit'].median(), inplace=True)\n",
    "\n",
    "print(\"\\nMissing values after cleaning:\")\n",
    "print(df.isnull().sum())"
   ]
  },
  {
   "cell_type": "code",
   "execution_count": null,
   "metadata": {},
   "outputs": [],
   "source": [
    "# Check for duplicate rows\n",
    "print(f\"\\nNumber of duplicate rows: {df.duplicated().sum()}\")\n",
    "\n",
    "# Remove duplicates\n",
    "df.drop_duplicates(inplace=True)\n",
    "print(f\"Number of duplicate rows after removal: {df.duplicated().sum()}\")"
   ]
  },
  {
   "cell_type": "code",
   "execution_count": null,
   "metadata": {},
   "outputs": [],
   "source": [
    "# Convert 'Date' column to datetime objects\n",
    "df['Date'] = pd.to_datetime(df['Date'])\n",
    "\n",
    "# Verify data types\n",
    "print(\"\\nData types after conversion:\")\n",
    "df.info()"
   ]
  },
  {
   "cell_type": "markdown",
   "metadata": {},
   "source": [
    "### 4. Descriptive Statistics"
   ]
  },
  {
   "cell_type": "code",
   "execution_count": null,
   "metadata": {},
   "outputs": [],
   "source": [
    "print(\"Descriptive Statistics:\")\n",
    "df.describe()"
   ]
  },
  {
   "cell_type": "markdown",
   "metadata": {},
   "source": [
    "### 5. Time Series Analysis"
   ]
  },
  {
   "cell_type": "code",
   "execution_count": null,
   "metadata": {},
   "outputs": [],
   "source": [
    "# Extract Month and Quarter for trend analysis\n",
    "df['Month'] = df['Date'].dt.to_period('M')\n",
    "df['Quarter'] = df['Date'].dt.to_period('Q')\n",
    "\n",
    "# Group by month to get monthly trends\n",
    "monthly_sales = df.groupby('Month').agg({'Revenue': 'sum', 'Profit': 'sum'}).reset_index()\n",
    "monthly_sales['Month'] = monthly_sales['Month'].dt.to_timestamp()\n",
    "\n",
    "print(\"Monthly Sales and Profit:\")\n",
    "print(monthly_sales)"
   ]
  },
  {
   "cell_type": "markdown",
   "metadata": {},
   "source": [
    "#### Visualization: Monthly Revenue and Profit Trends"
   ]
  },
  {
   "cell_type": "code",
   "execution_count": null,
   "metadata": {},
   "outputs": [],
   "source": [
    "plt.figure(figsize=(14, 7))\n",
    "plt.plot(monthly_sales['Month'], monthly_sales['Revenue'], marker='o', linestyle='-', label='Total Revenue')\n",
    "plt.plot(monthly_sales['Month'], monthly_sales['Profit'], marker='x', linestyle='--', label='Total Profit')\n",
    "plt.title('Monthly Revenue and Profit Trends')\n",
    "plt.xlabel('Month')\n",
    "plt.ylabel('Amount ($)')\n",
    "plt.legend()\n",
    "plt.grid(True)\n",
    "plt.show()"
   ]
  },
  {
   "cell_type": "markdown",
   "metadata": {},
   "source": [
    "### 6. Product and Category Analysis"
   ]
  },
  {
   "cell_type": "code",
   "execution_count": null,
   "metadata": {},
   "outputs": [],
   "source": [
    "# Category-wise analysis\n",
    "category_analysis = df.groupby('Category').agg({'Revenue': 'sum', 'Profit': 'sum'}).sort_values(by='Revenue', ascending=False)\n",
    "print(\"Category-wise Revenue and Profit:\")\n",
    "print(category_analysis)"
   ]
  },
  {
   "cell_type": "markdown",
   "metadata": {},
   "source": [
    "#### Visualization: Category-wise Revenue and Profit"
   ]
  },
  {
   "cell_type": "code",
   "execution_count": null,
   "metadata": {},
   "outputs": [],
   "source": [
    "category_analysis.plot(kind='bar', y=['Revenue', 'Profit'], secondary_y='Profit', figsize=(14, 7))\n",
    "plt.title('Category-wise Revenue and Profit')\n",
    "plt.xlabel('Category')\n",
    "plt.ylabel('Total Revenue')\n",
    "plt.show()"
   ]
  },
  {
   "cell_type": "code",
   "execution_count": null,
   "metadata": {},
   "outputs": [],
   "source": [
    "# Product-wise analysis\n",
    "product_analysis = df.groupby('Product').agg({'Revenue': 'sum', 'Profit': 'sum'}).sort_values(by='Revenue', ascending=False)\n",
    "\n",
    "# Top 5 products by revenue\n",
    "top_5_revenue_products = product_analysis.nlargest(5, 'Revenue')\n",
    "print(\"Top 5 Products by Revenue:\")\n",
    "print(top_5_revenue_products)"
   ]
  },
  {
   "cell_type": "code",
   "execution_count": null,
   "metadata": {},
   "outputs": [],
   "source": [
    "# Top 5 products by profit\n",
    "top_5_profit_products = product_analysis.nlargest(5, 'Profit')\n",
    "print(\"\\nTop 5 Products by Profit:\")\n",
    "print(top_5_profit_products)"
   ]
  },
  {
   "cell_type": "markdown",
   "metadata": {},
   "source": [
    "#### Visualization: Top 5 Products by Revenue"
   ]
  },
  {
   "cell_type": "code",
   "execution_count": null,
   "metadata": {},
   "outputs": [],
   "source": [
    "plt.figure(figsize=(12, 6))\n",
    "sns.barplot(x=top_5_revenue_products.index, y=top_5_revenue_products['Revenue'], palette='viridis')\n",
    "plt.title('Top 5 Products by Revenue')\n",
    "plt.xlabel('Product')\n",
    "plt.ylabel('Total Revenue')\n",
    "plt.xticks(rotation=45)\n",
    "plt.show()"
   ]
  },
  {
   "cell_type": "markdown",
   "metadata": {},
   "source": [
    "### 7. Regional Analysis"
   ]
  },
  {
   "cell_type": "code",
   "execution_count": null,
   "metadata": {},
   "outputs": [],
   "source": [
    "# Region-wise analysis\n",
    "region_analysis = df.groupby('Region').agg({'Revenue': 'sum', 'Profit': 'sum'}).sort_values(by='Revenue', ascending=False)\n",
    "print(\"Region-wise Revenue and Profit:\")\n",
    "print(region_analysis)"
   ]
  },
  {
   "cell_type": "markdown",
   "metadata": {},
   "source": [
    "#### Visualization: Revenue Share by Region (Pie Chart)"
   ]
  },
  {
   "cell_type": "code",
   "execution_count": null,
   "metadata": {},
   "outputs": [],
   "source": [
    "fig = px.pie(region_analysis, \n",
    "             values='Revenue', \n",
    "             names=region_analysis.index, \n",
    "             title='Revenue Share by Region',\n",
    "             hole=0.3)\n",
    "fig.update_traces(textposition='inside', textinfo='percent+label')\n",
    "fig.show()"
   ]
  },
  {
   "cell_type": "markdown",
   "metadata": {},
   "source": [
    "### 8. Correlation Analysis"
   ]
  },
  {
   "cell_type": "code",
   "execution_count": null,
   "metadata": {},
   "outputs": [],
   "source": [
    "# Select numerical columns for correlation analysis\n",
    "numerical_cols = ['Units_Sold', 'Unit_Price', 'Revenue', 'Cost', 'Profit']\n",
    "correlation_matrix = df[numerical_cols].corr()\n",
    "\n",
    "print(\"Correlation Matrix:\")\n",
    "print(correlation_matrix)"
   ]
  },
  {
   "cell_type": "markdown",
   "metadata": {},
   "source": [
    "#### Visualization: Correlation Heatmap"
   ]
  },
  {
   "cell_type": "code",
   "execution_count": null,
   "metadata": {},
   "outputs": [],
   "source": [
    "plt.figure(figsize=(10, 8))\n",
    "sns.heatmap(correlation_matrix, annot=True, cmap='coolwarm', fmt='.2f', linewidths=.5)\n",
    "plt.title('Correlation Matrix of Sales Data')\n",
    "plt.show()"
   ]
  },
  {
   "cell_type": "markdown",
   "metadata": {},
   "source": [
    "### 9. Insights and Recommendations"
   ]
  },
  {
   "cell_type": "markdown",
   "metadata": {},
   "source": [
    "#### Key Insights:\n",
    "1.  **Sales Trends**: The monthly sales and profit trends show seasonality, with potential peaks during certain months (e.g., holiday seasons). Understanding these patterns can help with inventory management and marketing campaigns.\n",
    "2.  **Top Categories**: The `Electronics` category consistently generates the highest revenue and profit. This is a key area of strength for the business.\n",
    "3.  **Top Products**: Products like `Laptop` and `Smartphone` are the primary drivers of revenue. Focusing marketing efforts on these items could yield significant returns.\n",
    "4.  **Regional Performance**: The `East` and `West` regions contribute the most to total revenue. There might be an opportunity to grow the business in the `North` and `South` regions.\n",
    "5.  **Correlations**: There is a strong positive correlation between `Revenue` and `Profit`, as expected. `Units_Sold` and `Revenue` are also highly correlated, indicating that sales volume is a major driver of revenue.\n",
    "\n",
    "#### Actionable Recommendations:\n",
    "1.  **Targeted Marketing**: Launch marketing campaigns for top-performing products (`Laptop`, `Smartphone`) in high-revenue regions (`East`, `West`) to maximize sales. For underperforming regions, consider promotional offers to boost market share.\n",
    "2.  **Inventory Management**: Align inventory levels with the observed monthly sales trends. Increase stock for high-demand products and categories ahead of peak seasons to avoid stockouts.\n",
    "3.  **Product Portfolio Strategy**: Invest more in the `Electronics` category. For lower-performing categories like `Books` or `Clothing`, consider bundling them with popular items or running special promotions to increase their sales.\n",
    "4.  **Regional Growth**: Analyze the market dynamics in the `North` and `South` regions to understand why sales are lower. This could involve market research, competitor analysis, or customer surveys to identify barriers and opportunities."
   ]
  }
 ],
 "metadata": {
  "kernelspec": {
   "display_name": "Python 3",
   "language": "python",
   "name": "python3"
  },
  "language_info": {
   "codemirror_mode": {
    "name": "ipython",
    "version": 3
   },
   "file_extension": ".py",
   "mimetype": "text/x-python",
   "name": "python",
   "nbconvert_exporter": "python",
   "pygments_lexer": "ipython3",
   "version": "3.9.7"
  }
 },
 "nbformat": 4,
 "nbformat_minor": 4
}